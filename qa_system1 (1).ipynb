{
 "cells": [
  {
   "cell_type": "markdown",
   "id": "dd7b057a-f245-436a-9402-71b900fdc352",
   "metadata": {},
   "source": [
    "### Installing and Importing the necessary libraries"
   ]
  },
  {
   "cell_type": "code",
   "execution_count": 1,
   "id": "a65b810b-6095-4e48-86c8-ac6c7ad1d5ec",
   "metadata": {},
   "outputs": [
    {
     "name": "stdout",
     "output_type": "stream",
     "text": [
      "Requirement already satisfied: scikit-learn in c:\\users\\mussaddiq khan\\anaconda3\\envs\\qa_env\\lib\\site-packages (1.6.1)\n",
      "Requirement already satisfied: nltk in c:\\users\\mussaddiq khan\\anaconda3\\envs\\qa_env\\lib\\site-packages (3.9.1)\n",
      "Requirement already satisfied: numpy>=1.19.5 in c:\\users\\mussaddiq khan\\anaconda3\\envs\\qa_env\\lib\\site-packages (from scikit-learn) (2.2.5)\n",
      "Requirement already satisfied: scipy>=1.6.0 in c:\\users\\mussaddiq khan\\anaconda3\\envs\\qa_env\\lib\\site-packages (from scikit-learn) (1.15.2)\n",
      "Requirement already satisfied: joblib>=1.2.0 in c:\\users\\mussaddiq khan\\anaconda3\\envs\\qa_env\\lib\\site-packages (from scikit-learn) (1.5.0)\n",
      "Requirement already satisfied: threadpoolctl>=3.1.0 in c:\\users\\mussaddiq khan\\anaconda3\\envs\\qa_env\\lib\\site-packages (from scikit-learn) (3.6.0)\n",
      "Requirement already satisfied: click in c:\\users\\mussaddiq khan\\anaconda3\\envs\\qa_env\\lib\\site-packages (from nltk) (8.1.8)\n",
      "Requirement already satisfied: regex>=2021.8.3 in c:\\users\\mussaddiq khan\\anaconda3\\envs\\qa_env\\lib\\site-packages (from nltk) (2024.11.6)\n",
      "Requirement already satisfied: tqdm in c:\\users\\mussaddiq khan\\anaconda3\\envs\\qa_env\\lib\\site-packages (from nltk) (4.67.1)\n",
      "Requirement already satisfied: colorama in c:\\users\\mussaddiq khan\\anaconda3\\envs\\qa_env\\lib\\site-packages (from click->nltk) (0.4.6)\n",
      "Note: you may need to restart the kernel to use updated packages.\n"
     ]
    }
   ],
   "source": [
    "pip install scikit-learn nltk"
   ]
  },
  {
   "cell_type": "code",
   "execution_count": 2,
   "id": "aebea651-97d7-4e7c-91b1-d766d7b28bfc",
   "metadata": {},
   "outputs": [
    {
     "name": "stderr",
     "output_type": "stream",
     "text": [
      "[nltk_data] Downloading package punkt_tab to C:\\Users\\Mussaddiq\n",
      "[nltk_data]     Khan\\AppData\\Roaming\\nltk_data...\n",
      "[nltk_data]   Package punkt_tab is already up-to-date!\n",
      "[nltk_data] Downloading package punkt to C:\\Users\\Mussaddiq\n",
      "[nltk_data]     Khan\\AppData\\Roaming\\nltk_data...\n",
      "[nltk_data]   Package punkt is already up-to-date!\n"
     ]
    }
   ],
   "source": [
    "import os\n",
    "import nltk\n",
    "nltk.download('punkt_tab')\n",
    "from sklearn.feature_extraction.text import TfidfVectorizer\n",
    "from sklearn.metrics.pairwise import cosine_similarity\n",
    "import numpy as np\n",
    "\n",
    "# Download NLTK tokenizer\n",
    "nltk.download('punkt')\n",
    "from nltk.tokenize import sent_tokenize"
   ]
  },
  {
   "cell_type": "code",
   "execution_count": 3,
   "id": "5df76673-aad8-4af1-b6a4-8eea64880d49",
   "metadata": {},
   "outputs": [
    {
     "name": "stdout",
     "output_type": "stream",
     "text": [
      "Python is a high-level, interpreted programming language known for its simplicity and readability. It was created by Guido van Rossum and first released in 1991.\n",
      "Key Features of Python: Easy to Read & Write Syntax is clean and similar to English, Interpreted Language Python code is executed line-by-line which makes debugging easier, dynamically Typed You don’t need to declare data types explicitly, Object-Oriented & Functional Supports multiple programming paradigms, Large Standard Library Comes with many modules and packages (like math, datetime, os, etc.), Cross-Platform Works on Windows, Mac, and Linux.\n",
      "Common Uses of Python: Web Development (with frameworks like Django, Flask), Data Science & Machine Learning (using NumPy, pandas, scikit-learn), Automation & Scripting, Game Development, APIs and Backend Services, Artificial Intelligence & Deep Learning.\n",
      "\n"
     ]
    }
   ],
   "source": [
    "# created a function named 'load_text' to read the file and stored the readed file into a variable named 'text'\n",
    "def load_text(file_path):\n",
    "    with open(file_path, 'r', encoding='utf-8') as file:\n",
    "        return file.read()\n",
    "\n",
    "text = load_text('python.txt')\n",
    "print(text)\n",
    "# successfully loaded  and read the file into var  'text'. see the loaded file below"
   ]
  },
  {
   "cell_type": "code",
   "execution_count": 4,
   "id": "ddbebd4b-ffb2-4441-b49d-d6034c3bf7d5",
   "metadata": {},
   "outputs": [],
   "source": [
    "#Spliting the text into groups of a few sentences  using chunk_size (e.g., 3–5 at a time).\n",
    "# how does above code line works is given below:\n",
    "'''range(0, len(sentences), chunk_size) gives:\n",
    "\n",
    "i = 0, 2, 4\n",
    "\n",
    "For each i, sentences[i:i+chunk_size] slices the list:\n",
    "\n",
    "sentences[0:2] → [\"Sentence 1.\", \"Sentence 2.\"]\n",
    "\n",
    "sentences[2:4] → [\"Sentence 3.\", \"Sentence 4.\"]\n",
    "\n",
    "sentences[4:6] → [\"Sentence 5.\", \"Sentence 6.\"]\n",
    "\n",
    "\" \".join(...) turns each of those into one string:\n",
    "\n",
    "\"Sentence 1. Sentence 2.\", and so on'''\n",
    "def chunk_text(text, chunk_size=5): \n",
    "    sentences = sent_tokenize(text)\n",
    "    return [\" \".join(sentences[i:i+chunk_size]) for i in range(0, len(sentences), chunk_size)]    "
   ]
  },
  {
   "cell_type": "code",
   "execution_count": 5,
   "id": "1612fb9f-7b98-45d4-81ee-abbf83cb4688",
   "metadata": {},
   "outputs": [
    {
     "name": "stdout",
     "output_type": "stream",
     "text": [
      "Chunk 1:\n",
      "Python is a high-level, interpreted programming language known for its simplicity and readability. It was created by Guido van Rossum and first released in 1991.\n",
      "\n",
      "Chunk 2:\n",
      "Key Features of Python: Easy to Read & Write Syntax is clean and similar to English, Interpreted Language Python code is executed line-by-line which makes debugging easier, dynamically Typed You don’t need to declare data types explicitly, Object-Oriented & Functional Supports multiple programming paradigms, Large Standard Library Comes with many modules and packages (like math, datetime, os, etc. ), Cross-Platform Works on Windows, Mac, and Linux.\n",
      "\n",
      "Chunk 3:\n",
      "Common Uses of Python: Web Development (with frameworks like Django, Flask), Data Science & Machine Learning (using NumPy, pandas, scikit-learn), Automation & Scripting, Game Development, APIs and Backend Services, Artificial Intelligence & Deep Learning.\n",
      "\n"
     ]
    }
   ],
   "source": [
    "#splitted the text into sentences an stored in var named 'chunks'\n",
    "chunks = chunk_text(text, chunk_size=2)\n",
    "for i, chunk in enumerate(chunks): #enumerate() works as Automatically gives an index (number) to each item.Returns both the index and the item\n",
    "    print(f\"Chunk {i+1}:\\n{chunk}\\n\")"
   ]
  },
  {
   "cell_type": "code",
   "execution_count": 6,
   "id": "018e88f5-3728-4823-af1b-2bdfac51f781",
   "metadata": {},
   "outputs": [
    {
     "name": "stdout",
     "output_type": "stream",
     "text": [
      "TF-IDF Feature Names:\n",
      "['1991' 'and' 'apis' 'artificial' 'automation' 'backend' 'by' 'clean'\n",
      " 'code' 'comes' 'common' 'created' 'cross' 'data' 'datetime' 'debugging'\n",
      " 'declare' 'deep' 'development' 'django' 'don' 'dynamically' 'easier'\n",
      " 'easy' 'english' 'etc' 'executed' 'explicitly' 'features' 'first' 'flask'\n",
      " 'for' 'frameworks' 'functional' 'game' 'guido' 'high' 'in' 'intelligence'\n",
      " 'interpreted' 'is' 'it' 'its' 'key' 'known' 'language' 'large' 'learn'\n",
      " 'learning' 'level' 'library' 'like' 'line' 'linux' 'mac' 'machine'\n",
      " 'makes' 'many' 'math' 'modules' 'multiple' 'need' 'numpy' 'object' 'of'\n",
      " 'on' 'oriented' 'os' 'packages' 'pandas' 'paradigms' 'platform'\n",
      " 'programming' 'python' 'read' 'readability' 'released' 'rossum' 'science'\n",
      " 'scikit' 'scripting' 'services' 'similar' 'simplicity' 'standard'\n",
      " 'supports' 'syntax' 'to' 'typed' 'types' 'uses' 'using' 'van' 'was' 'web'\n",
      " 'which' 'windows' 'with' 'works' 'write' 'you']\n",
      "\n",
      "TF-IDF Matrix Shape:\n",
      "(3, 101)\n",
      "\n",
      "TF-IDF Matrix as Array:\n",
      "[[0.21498599 0.25394838 0.         0.         0.         0.\n",
      "  0.16350239 0.         0.         0.         0.         0.21498599\n",
      "  0.         0.         0.         0.         0.         0.\n",
      "  0.         0.         0.         0.         0.         0.\n",
      "  0.         0.         0.         0.         0.         0.21498599\n",
      "  0.         0.21498599 0.         0.         0.         0.21498599\n",
      "  0.21498599 0.21498599 0.         0.16350239 0.16350239 0.21498599\n",
      "  0.21498599 0.         0.21498599 0.16350239 0.         0.\n",
      "  0.         0.21498599 0.         0.         0.         0.\n",
      "  0.         0.         0.         0.         0.         0.\n",
      "  0.         0.         0.         0.         0.         0.\n",
      "  0.         0.         0.         0.         0.         0.\n",
      "  0.16350239 0.12697419 0.         0.21498599 0.21498599 0.21498599\n",
      "  0.         0.         0.         0.         0.         0.21498599\n",
      "  0.         0.         0.         0.         0.         0.\n",
      "  0.         0.         0.21498599 0.21498599 0.         0.\n",
      "  0.         0.         0.         0.         0.        ]\n",
      " [0.         0.20957901 0.         0.         0.         0.\n",
      "  0.08995705 0.11828271 0.11828271 0.11828271 0.         0.\n",
      "  0.11828271 0.08995705 0.11828271 0.11828271 0.11828271 0.\n",
      "  0.         0.         0.11828271 0.11828271 0.11828271 0.11828271\n",
      "  0.11828271 0.11828271 0.11828271 0.11828271 0.11828271 0.\n",
      "  0.         0.         0.         0.11828271 0.         0.\n",
      "  0.         0.         0.         0.08995705 0.17991409 0.\n",
      "  0.         0.11828271 0.         0.08995705 0.11828271 0.\n",
      "  0.         0.         0.11828271 0.08995705 0.23656541 0.11828271\n",
      "  0.11828271 0.         0.11828271 0.11828271 0.11828271 0.11828271\n",
      "  0.11828271 0.11828271 0.         0.11828271 0.08995705 0.11828271\n",
      "  0.11828271 0.11828271 0.11828271 0.         0.11828271 0.11828271\n",
      "  0.08995705 0.13971934 0.11828271 0.         0.         0.\n",
      "  0.         0.         0.         0.         0.11828271 0.\n",
      "  0.11828271 0.11828271 0.11828271 0.35484812 0.11828271 0.11828271\n",
      "  0.         0.         0.         0.         0.         0.11828271\n",
      "  0.11828271 0.08995705 0.11828271 0.11828271 0.11828271]\n",
      " [0.         0.10279554 0.17404798 0.17404798 0.17404798 0.17404798\n",
      "  0.         0.         0.         0.         0.17404798 0.\n",
      "  0.         0.13236798 0.         0.         0.         0.17404798\n",
      "  0.34809597 0.17404798 0.         0.         0.         0.\n",
      "  0.         0.         0.         0.         0.         0.\n",
      "  0.17404798 0.         0.17404798 0.         0.17404798 0.\n",
      "  0.         0.         0.17404798 0.         0.         0.\n",
      "  0.         0.         0.         0.         0.         0.17404798\n",
      "  0.34809597 0.         0.         0.13236798 0.         0.\n",
      "  0.         0.17404798 0.         0.         0.         0.\n",
      "  0.         0.         0.17404798 0.         0.13236798 0.\n",
      "  0.         0.         0.         0.17404798 0.         0.\n",
      "  0.         0.10279554 0.         0.         0.         0.\n",
      "  0.17404798 0.17404798 0.17404798 0.17404798 0.         0.\n",
      "  0.         0.         0.         0.         0.         0.\n",
      "  0.17404798 0.17404798 0.         0.         0.17404798 0.\n",
      "  0.         0.13236798 0.         0.         0.        ]]\n"
     ]
    }
   ],
   "source": [
    "# Vectorize the text chunks:\n",
    "'''Converting each chunk of text into a numerical vector (a list of numbers)\n",
    "so that a machine learning model or algorithm (like similarity search) can process and compare them.'''\n",
    "\n",
    "def vectorize_chunks(chunks):\n",
    "    \n",
    "#Computers don’t understand text — they understand numbers. So, i converted each chunk of text (like sentences or paragraphs) into a vector using technique 'TF-IDF' (Term Frequency-Inverse Document Frequency)\n",
    "\n",
    "    vectorizer = TfidfVectorizer() #above line creates a TfidfVectorizer object from scikit-learn which is used to convert text into numerical vectors that reflect how important each word is in a document relative to other documents\n",
    "\n",
    "    tfidf_matrix = vectorizer.fit_transform(chunks) #Transforms each chunk into a numerical TF-IDF vector.\n",
    "    return vectorizer, tfidf_matrix\n",
    "vectorizer, tfidf_matrix = vectorize_chunks(chunks) #calling the function with our chunks list and storing the outputs.\n",
    "\n",
    "#Printing the feature names \n",
    "print(\"TF-IDF Feature Names:\")\n",
    "print(vectorizer.get_feature_names_out())\n",
    "\n",
    "#Printing matrix shape\n",
    "print(\"\\nTF-IDF Matrix Shape:\")\n",
    "print(tfidf_matrix.shape)\n",
    "\n",
    "#Printing matrix as array\n",
    "print(\"\\nTF-IDF Matrix as Array:\")\n",
    "print(tfidf_matrix.toarray())"
   ]
  },
  {
   "cell_type": "code",
   "execution_count": 7,
   "id": "5efb21ef-a90b-4c66-96c5-adc5c76d70d9",
   "metadata": {},
   "outputs": [],
   "source": [
    "def answer_question(question, chunks, vectorizer, tfidf_matrix, top_n=1):\n",
    "    question_vec = vectorizer.transform([question]) #it transforms the question text into a TF-IDF vector, using the same vectorizer \n",
    "    \n",
    "    similarities = cosine_similarity(question_vec, tfidf_matrix).flatten()\n",
    "#cosine_similarity compares the question vector to every chunk vector. It returns similarity scores between 0 and 1:\n",
    "    \n",
    "    best_chunk_indices = similarities.argsort()[-top_n:][::-1] #[-top_n:] gets the indices of the top n scores.\n",
    " # Return the most relevant chunk(s)\n",
    "    return [chunks[i] for i in best_chunk_indices]\n",
    "\n",
    "    \n",
    "    # Now, dive deeper into the best chunks to find the best sentence(s)\n",
    "    best_sentences = []\n",
    "    for idx in best_chunk_indices:\n",
    "        chunk = chunks[idx]\n",
    "        sentences = sent_tokenize(chunk)\n",
    "        sentence_vecs = vectorizer.transform(sentences)\n",
    "        sentence_similarities = cosine_similarity(question_vec, sentence_vecs).flatten()\n",
    "        best_sentence_idx = sentence_similarities.argmax()\n",
    "        best_sentences.append(sentences[best_sentence_idx])\n",
    "    return best_sentences"
   ]
  },
  {
   "cell_type": "code",
   "execution_count": 11,
   "id": "af499822-6910-4340-ad30-75140927b2b1",
   "metadata": {},
   "outputs": [
    {
     "name": "stdout",
     "output_type": "stream",
     "text": [
      "Answer:\n",
      "It was created by Guido van Rossum and first released in 1991.\n"
     ]
    }
   ],
   "source": [
    "#  Answer user questions\n",
    "def answer_question(question, chunks, vectorizer, tfidf_matrix, top_n=1):\n",
    "    question_vec = vectorizer.transform([question])\n",
    "    similarities = cosine_similarity(question_vec, tfidf_matrix).flatten()\n",
    "    best_chunk_indices = similarities.argsort()[-top_n:][::-1]\n",
    "    \n",
    "    # Return the most relevant chunk(s)\n",
    "    return [chunks[i] for i in best_chunk_indices]\n",
    "\n",
    "chunks = chunk_text(text, chunk_size=1)\n",
    "vectorizer, tfidf_matrix = vectorize_chunks(chunks)\n",
    "\n",
    "# === Ask a question ===\n",
    "question = \"Who created Python?\"\n",
    "answers = answer_question(question, chunks, vectorizer, tfidf_matrix)\n",
    "\n",
    "# === Print result ===\n",
    "print(\"Answer:\")\n",
    "for ans in answers:\n",
    "    print(ans)"
   ]
  },
  {
   "cell_type": "markdown",
   "id": "309905b1-e019-4e68-8eef-f5e9cb4ab2c5",
   "metadata": {
    "scrolled": true
   },
   "source": [
    "answers = answer_question(question, chunks, vectorizer, tfidf_matrix)\n",
    "print(\"\\nBest answer:\\n\", \"\\n\".join(answers), \"\\n\")"
   ]
  },
  {
   "cell_type": "code",
   "execution_count": null,
   "id": "3158d4b3-8497-4d36-ba11-d5e12cbd813d",
   "metadata": {},
   "outputs": [
    {
     "name": "stdout",
     "output_type": "stream",
     "text": [
      "Ask a question (type 'exit' to quit):\n"
     ]
    },
    {
     "name": "stdin",
     "output_type": "stream",
     "text": [
      ">>  what are the uses of python\n"
     ]
    },
    {
     "name": "stdout",
     "output_type": "stream",
     "text": [
      "\n",
      "Answer based on document:\n",
      " Python is a high-level, interpreted programming language known for its simplicity and readability. It was created by Guido van Rossum and first released in 1991. Key Features of Python: Easy to Read & Write Syntax is clean and similar to English, Interpreted Language Python code is executed line-by-line which makes debugging easier, dynamically Typed You don’t need to declare data types explicitly, Object-Oriented & Functional Supports multiple programming paradigms, Large Standard Library Comes with many modules and packages (like math, datetime, os, etc. ), Cross-Platform Works on Windows, Mac, and Linux. Common Uses of Python: Web Development (with frameworks like Django, Flask), Data Science & Machine Learning (using NumPy, pandas, scikit-learn), Automation & Scripting, Game Development, APIs and Backend Services, Artificial Intelligence & Deep Learning. \n",
      "\n"
     ]
    }
   ],
   "source": [
    "# === MAIN EXECUTION ===\n",
    "if __name__ == \"__main__\":\n",
    "    file_path = \"python.txt\"  # Put your .txt file here\n",
    "    text = load_text(file_path)\n",
    "    chunks = chunk_text(text)\n",
    "    vectorizer, tfidf_matrix = vectorize_chunks(chunks)\n",
    "    \n",
    "    print(\"Ask a question (type 'exit' to quit):\")\n",
    "    while True:\n",
    "        question = input(\">> \")\n",
    "        if question.lower() == 'exit':\n",
    "            break\n",
    "        answers = answer_question(question, chunks, vectorizer, tfidf_matrix)\n",
    "        print(\"\\nAnswer based on document:\\n\",answers[0], \"\\n\")"
   ]
  },
  {
   "cell_type": "code",
   "execution_count": null,
   "id": "19654183-fc3d-4586-bf11-6a6723e61eef",
   "metadata": {},
   "outputs": [],
   "source": []
  }
 ],
 "metadata": {
  "kernelspec": {
   "display_name": "Python 3 (ipykernel)",
   "language": "python",
   "name": "python3"
  },
  "language_info": {
   "codemirror_mode": {
    "name": "ipython",
    "version": 3
   },
   "file_extension": ".py",
   "mimetype": "text/x-python",
   "name": "python",
   "nbconvert_exporter": "python",
   "pygments_lexer": "ipython3",
   "version": "3.10.16"
  }
 },
 "nbformat": 4,
 "nbformat_minor": 5
}

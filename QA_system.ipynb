{
 "cells": [
  {
   "cell_type": "markdown",
   "id": "264a14d8-42f9-4647-9ea8-c520c01f7267",
   "metadata": {},
   "source": [
    "## Description :\n",
    "\n",
    "This Python application implements a simple Question-Answering (QA) system based on the principles of Retrieval-Augmented Generation (RAG). It reads unstructured text from a .txt file and returns relevant answers based on user questions.\n",
    "\n",
    "###### The system:\n",
    "\n",
    "Reads from a knowledge base in .txt format.\n",
    "\n",
    "Uses TF-IDF to vectorize both content and questions.\n",
    "\n",
    "Computes cosine similarity to identify the most relevant part of the text.\n",
    "\n",
    "Returns the best-matching chunk as the answer.\n",
    "\n"
   ]
  },
  {
   "cell_type": "markdown",
   "id": "8a7d6972-417f-4dba-82d0-d027b9974598",
   "metadata": {},
   "source": [
    "### Installing and Importing the necessary libraries"
   ]
  },
  {
   "cell_type": "code",
   "execution_count": 1,
   "id": "df71ce1b-d6bf-49c7-9b26-e5fcb4e8fbc0",
   "metadata": {},
   "outputs": [
    {
     "name": "stdout",
     "output_type": "stream",
     "text": [
      "Requirement already satisfied: nltk in c:\\users\\musad\\anaconda3\\envs\\resume_env\\lib\\site-packages (3.9.1)\n",
      "Requirement already satisfied: scikit-learn in c:\\users\\musad\\anaconda3\\envs\\resume_env\\lib\\site-packages (1.6.1)\n",
      "Requirement already satisfied: click in c:\\users\\musad\\anaconda3\\envs\\resume_env\\lib\\site-packages (from nltk) (8.1.8)\n",
      "Requirement already satisfied: joblib in c:\\users\\musad\\anaconda3\\envs\\resume_env\\lib\\site-packages (from nltk) (1.5.0)\n",
      "Requirement already satisfied: regex>=2021.8.3 in c:\\users\\musad\\anaconda3\\envs\\resume_env\\lib\\site-packages (from nltk) (2024.11.6)\n",
      "Requirement already satisfied: tqdm in c:\\users\\musad\\anaconda3\\envs\\resume_env\\lib\\site-packages (from nltk) (4.67.1)\n",
      "Requirement already satisfied: numpy>=1.19.5 in c:\\users\\musad\\anaconda3\\envs\\resume_env\\lib\\site-packages (from scikit-learn) (2.2.4)\n",
      "Requirement already satisfied: scipy>=1.6.0 in c:\\users\\musad\\anaconda3\\envs\\resume_env\\lib\\site-packages (from scikit-learn) (1.15.2)\n",
      "Requirement already satisfied: threadpoolctl>=3.1.0 in c:\\users\\musad\\anaconda3\\envs\\resume_env\\lib\\site-packages (from scikit-learn) (3.6.0)\n",
      "Requirement already satisfied: colorama in c:\\users\\musad\\anaconda3\\envs\\resume_env\\lib\\site-packages (from click->nltk) (0.4.6)\n",
      "Note: you may need to restart the kernel to use updated packages.\n"
     ]
    }
   ],
   "source": [
    "pip install nltk scikit-learn"
   ]
  },
  {
   "cell_type": "code",
   "execution_count": 2,
   "id": "d6f368a6-7faa-4d1f-be65-63b53f6d7ab1",
   "metadata": {},
   "outputs": [
    {
     "name": "stderr",
     "output_type": "stream",
     "text": [
      "[nltk_data] Downloading package punkt to\n",
      "[nltk_data]     C:\\Users\\musad\\AppData\\Roaming\\nltk_data...\n",
      "[nltk_data]   Package punkt is already up-to-date!\n"
     ]
    },
    {
     "data": {
      "text/plain": [
       "True"
      ]
     },
     "execution_count": 2,
     "metadata": {},
     "output_type": "execute_result"
    }
   ],
   "source": [
    "import nltk\n",
    "import string\n",
    "from sklearn.feature_extraction.text import TfidfVectorizer\n",
    "from sklearn.metrics.pairwise import cosine_similarity\n",
    "\n",
    "# Download NLTK tokenizer\n",
    "nltk.download('punkt')"
   ]
  },
  {
   "cell_type": "code",
   "execution_count": 3,
   "id": "731aab02-251a-44d9-a793-7bad6f677d49",
   "metadata": {},
   "outputs": [
    {
     "name": "stdout",
     "output_type": "stream",
     "text": [
      "['\\n\\nPython is a high-level, interpreted programming language known for its simplicity and readability.', 'It was created by Guido van Rossum and first released in 1991.', 'Key Features of Python: Easy to Read & Write Syntax is clean and similar to English, Interpreted Language Python code is executed line-by-line which makes debugging easier,\\ndynamically Typed You don’t need to declare data types explicitly, Object-Oriented & Functional Supports multiple programming paradigms,\\nLarge Standard Library Comes with many modules and packages (like math, datetime, os, etc.', '), Cross-Platform Works on Windows, Mac, and Linux.', 'Common Uses of Python: Web Development (with frameworks like Django, Flask), Data Science & Machine Learning (using NumPy, pandas, scikit-learn), Automation & Scripting, Game Development,\\nAPIs and Backend Services, Artificial Intelligence & Deep Learning.']\n"
     ]
    }
   ],
   "source": [
    "# created a function named 'load_text' to read the file and stored the readed file into a variable named 'text'\n",
    "def load_text(file_path):\n",
    "    with open(file_path, 'r', encoding='utf-8') as f:\n",
    "        text = f.read()\n",
    "    # Split into sentences or paragraphs # Download NLTK tokenizer\n",
    "    chunks = nltk.sent_tokenize(text)\n",
    "    return chunks\n",
    " # successfully loaded  and read the file into var  'text'. see the loaded file below   \n",
    "text = load_text('python1.txt')\n",
    "print(text)\n"
   ]
  },
  {
   "cell_type": "code",
   "execution_count": 4,
   "id": "3fd8508d-e5a8-4e55-8747-ca56f891ebb2",
   "metadata": {},
   "outputs": [],
   "source": [
    "# created a function named preprocess to normalize and clean text\n",
    "'''text.lower()\n",
    "Converts all characters in the input text to lowercase.\n",
    "\n",
    "This helps ensure case-insensitive matching (e.g., \"Python\" and \"python\" are treated the same).\n",
    "\n",
    "translate(str.maketrans('', '', string.punctuation))\n",
    "string.punctuation contains all common punctuation characters:\n",
    "!\"#$%&'()*+,-./:;<=>?@[\\]^_{|}~\n",
    "\n",
    "str.maketrans('', '', string.punctuation) creates a translation table that tells Python to remove all punctuation.'''\n",
    "\n",
    "def preprocess(text):\n",
    "\n",
    "    return text.lower().translate(str.maketrans('', '', string.punctuation))\n"
   ]
  },
  {
   "cell_type": "code",
   "execution_count": 5,
   "id": "e30135d5-c0c1-4833-8e67-1a306d6f3850",
   "metadata": {},
   "outputs": [],
   "source": [
    "#created a function that takes: question as a string (user's input),chunks as a list of text chunks (e.g., sentences or paragraphs from the .txt file)\n",
    "def retrieve_answer(question, chunks):\n",
    "    \n",
    "#It preprocesses all the text chunks (lowercasing + punctuation removal).Returns a cleaned list of strings.\n",
    "    processed_chunks = [preprocess(chunk) for chunk in chunks]\n",
    "    \n",
    "#below line  preprocesses the user’s question using the same method\n",
    "    processed_question = preprocess(question)\n",
    "\n",
    "#converted each chunk of text (like sentences or paragraphs) into a vector using technique 'TF-IDF' \n",
    "#Initializes a TF-IDF vectorizer.TF-IDF = Term Frequency - Inverse Document Frequency, used to represent text as numeric vectors.    \n",
    "    vectorizer = TfidfVectorizer()\n",
    "\n",
    "#Combines all preprocessed chunks and  question into one list.Vectorizes them all at once.The last vector corresponds to the question.\n",
    "    vectors = vectorizer.fit_transform(processed_chunks + [processed_question])\n",
    "\n",
    "#Computes cosine similarity between: vectors[-1] → the question vectorvectors[:-1] → all the chunksReturns an array of similarity scores.\n",
    "    similarity = cosine_similarity(vectors[-1], vectors[:-1])\n",
    "\n",
    "#Finds the index of the most similar chunk,argmax() returns the position of the highest similarity score.\n",
    "    best_match_index = similarity.argmax()\n",
    "    \n",
    "#Returns the original (non-preprocessed) chunk that best matches the question. \n",
    "    return chunks[best_match_index]"
   ]
  },
  {
   "cell_type": "code",
   "execution_count": 6,
   "id": "59555888-066f-49cd-bbd8-cf60ccd6f732",
   "metadata": {},
   "outputs": [
    {
     "name": "stdout",
     "output_type": "stream",
     "text": [
      "Question and Answer System Initialized. Type 'exit' to quit.\n"
     ]
    },
    {
     "name": "stdin",
     "output_type": "stream",
     "text": [
      "\n",
      "Ask a question:  what is python?\n"
     ]
    },
    {
     "name": "stdout",
     "output_type": "stream",
     "text": [
      "\n",
      "Answer: \n",
      "\n",
      "Python is a high-level, interpreted programming language known for its simplicity and readability.\n"
     ]
    },
    {
     "name": "stdin",
     "output_type": "stream",
     "text": [
      "\n",
      "Ask a question:  who created python?\n"
     ]
    },
    {
     "name": "stdout",
     "output_type": "stream",
     "text": [
      "\n",
      "Answer: It was created by Guido van Rossum and first released in 1991.\n"
     ]
    },
    {
     "name": "stdin",
     "output_type": "stream",
     "text": [
      "\n",
      "Ask a question:  what are the uses of python?\n"
     ]
    },
    {
     "name": "stdout",
     "output_type": "stream",
     "text": [
      "\n",
      "Answer: Common Uses of Python: Web Development (with frameworks like Django, Flask), Data Science & Machine Learning (using NumPy, pandas, scikit-learn), Automation & Scripting, Game Development,\n",
      "APIs and Backend Services, Artificial Intelligence & Deep Learning.\n"
     ]
    },
    {
     "name": "stdin",
     "output_type": "stream",
     "text": [
      "\n",
      "Ask a question:  what are the advantages of python?\n"
     ]
    },
    {
     "name": "stdout",
     "output_type": "stream",
     "text": [
      "\n",
      "Answer: Key Features of Python: Easy to Read & Write Syntax is clean and similar to English, Interpreted Language Python code is executed line-by-line which makes debugging easier,\n",
      "dynamically Typed You don’t need to declare data types explicitly, Object-Oriented & Functional Supports multiple programming paradigms,\n",
      "Large Standard Library Comes with many modules and packages (like math, datetime, os, etc.\n"
     ]
    },
    {
     "name": "stdin",
     "output_type": "stream",
     "text": [
      "\n",
      "Ask a question:  exot\n"
     ]
    },
    {
     "name": "stdout",
     "output_type": "stream",
     "text": [
      "\n",
      "Answer: \n",
      "\n",
      "Python is a high-level, interpreted programming language known for its simplicity and readability.\n"
     ]
    },
    {
     "name": "stdin",
     "output_type": "stream",
     "text": [
      "\n",
      "Ask a question:  exit\n"
     ]
    }
   ],
   "source": [
    "#The main() function starts the QA system and handles user interaction in a loop:\n",
    "def main():\n",
    "    \n",
    "#Loads and splits the content of the file python1.txt into text chunks (sentences or paragraphs).\n",
    "    chunks = load_text(\"python1.txt\")\n",
    "    \n",
    "#Displays an instruction to the user about how to use the system.\n",
    "    print(\"Question and Answer System Initialized. Type 'exit' to quit.\")\n",
    "    \n",
    "#Continuously prompts the user for a question and Exits the loop if the user types 'exit'\n",
    "    while True:\n",
    "        question = input(\"\\nAsk a question: \")\n",
    "        if question.lower() == 'exit':\n",
    "            break\n",
    "            \n",
    "#Calls the retrieve_answer() function to get the most relevant answer from the text chunks and Prints the answer to the user.\n",
    "        answer = retrieve_answer(question, chunks)\n",
    "        print(f\"\\nAnswer: {answer}\")\n",
    "        \n",
    "#this ensures the main() function runs only when the script is executed directly (not imported).\n",
    "if __name__ == \"__main__\":\n",
    "    main()"
   ]
  },
  {
   "cell_type": "markdown",
   "id": "e2056d5b-8e41-442a-a49c-a3647e436b8f",
   "metadata": {},
   "source": [
    "![Architecture Diagram](C:\\Users\\musad\\Desktop\\architecture.jpg)"
   ]
  },
  {
   "cell_type": "code",
   "execution_count": null,
   "id": "c3a8669d-1144-4a32-a233-9da74ea04597",
   "metadata": {},
   "outputs": [],
   "source": []
  }
 ],
 "metadata": {
  "kernelspec": {
   "display_name": "Python 3 (ipykernel)",
   "language": "python",
   "name": "python3"
  },
  "language_info": {
   "codemirror_mode": {
    "name": "ipython",
    "version": 3
   },
   "file_extension": ".py",
   "mimetype": "text/x-python",
   "name": "python",
   "nbconvert_exporter": "python",
   "pygments_lexer": "ipython3",
   "version": "3.10.16"
  }
 },
 "nbformat": 4,
 "nbformat_minor": 5
}
